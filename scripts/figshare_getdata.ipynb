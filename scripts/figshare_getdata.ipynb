{
 "cells": [
  {
   "cell_type": "markdown",
   "id": "21feef40",
   "metadata": {},
   "source": [
    "# Stream data from figshare for processing"
   ]
  },
  {
   "cell_type": "code",
   "execution_count": null,
   "id": "344731ef",
   "metadata": {},
   "outputs": [],
   "source": [
    "'''\n",
    "Queries SciSciNet data collection on figshare and\n",
    "downloads files if specified.\n",
    "'''"
   ]
  },
  {
   "cell_type": "code",
   "execution_count": 2,
   "id": "0c3aadbf",
   "metadata": {},
   "outputs": [
    {
     "data": {
      "text/plain": [
       "'/home/sukayna/Drive/PhD/docker/SciSciNet/scripts'"
      ]
     },
     "execution_count": 2,
     "metadata": {},
     "output_type": "execute_result"
    }
   ],
   "source": [
    "import os, sys\n",
    "os.getcwd()"
   ]
  },
  {
   "cell_type": "code",
   "execution_count": 3,
   "id": "12f0f888",
   "metadata": {},
   "outputs": [],
   "source": [
    "import requests, hashlib, shutil\n",
    "import json\n",
    "import logging\n",
    "import pandas as pd\n",
    "import numpy as np\n",
    "from figshare_api import *\n",
    "from tqdm import tqdm "
   ]
  },
  {
   "cell_type": "code",
   "execution_count": null,
   "id": "11a24f0b",
   "metadata": {},
   "outputs": [],
   "source": []
  },
  {
   "cell_type": "code",
   "execution_count": null,
   "id": "1c2db98e",
   "metadata": {},
   "outputs": [],
   "source": []
  }
 ],
 "metadata": {
  "kernelspec": {
   "display_name": "Python 3 (ipykernel)",
   "language": "python",
   "name": "python3"
  },
  "language_info": {
   "codemirror_mode": {
    "name": "ipython",
    "version": 3
   },
   "file_extension": ".py",
   "mimetype": "text/x-python",
   "name": "python",
   "nbconvert_exporter": "python",
   "pygments_lexer": "ipython3",
   "version": "3.10.12"
  }
 },
 "nbformat": 4,
 "nbformat_minor": 5
}
